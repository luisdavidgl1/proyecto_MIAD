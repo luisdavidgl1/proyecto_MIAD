{
 "cells": [
  {
   "cell_type": "code",
   "execution_count": 2,
   "id": "04085904-dd94-499e-8615-db1e6ef244f2",
   "metadata": {},
   "outputs": [],
   "source": [
    "import pandas as pd\n",
    "import openpyxl\n",
    "clientes = pd.read_excel('./DATOSCONTUGAS.xlsx', sheet_name=None)"
   ]
  },
  {
   "cell_type": "code",
   "execution_count": 4,
   "id": "206c3c17-c4f8-4ce8-89cc-2874f2fbd10b",
   "metadata": {},
   "outputs": [
    {
     "data": {
      "text/html": [
       "<div>\n",
       "<style scoped>\n",
       "    .dataframe tbody tr th:only-of-type {\n",
       "        vertical-align: middle;\n",
       "    }\n",
       "\n",
       "    .dataframe tbody tr th {\n",
       "        vertical-align: top;\n",
       "    }\n",
       "\n",
       "    .dataframe thead th {\n",
       "        text-align: right;\n",
       "    }\n",
       "</style>\n",
       "<table border=\"1\" class=\"dataframe\">\n",
       "  <thead>\n",
       "    <tr style=\"text-align: right;\">\n",
       "      <th></th>\n",
       "      <th>Fecha</th>\n",
       "      <th>Presion</th>\n",
       "      <th>Temperatura</th>\n",
       "      <th>Volumen</th>\n",
       "      <th>CLIENTE</th>\n",
       "    </tr>\n",
       "  </thead>\n",
       "  <tbody>\n",
       "    <tr>\n",
       "      <th>0</th>\n",
       "      <td>2019-01-14 00:00:00</td>\n",
       "      <td>17.732563</td>\n",
       "      <td>28.209354</td>\n",
       "      <td>20.969751</td>\n",
       "      <td>CLIENTE1</td>\n",
       "    </tr>\n",
       "    <tr>\n",
       "      <th>1</th>\n",
       "      <td>2019-01-14 01:00:00</td>\n",
       "      <td>17.747776</td>\n",
       "      <td>28.518614</td>\n",
       "      <td>17.845739</td>\n",
       "      <td>CLIENTE1</td>\n",
       "    </tr>\n",
       "    <tr>\n",
       "      <th>2</th>\n",
       "      <td>2019-01-14 02:00:00</td>\n",
       "      <td>17.758916</td>\n",
       "      <td>28.230191</td>\n",
       "      <td>20.975914</td>\n",
       "      <td>CLIENTE1</td>\n",
       "    </tr>\n",
       "    <tr>\n",
       "      <th>3</th>\n",
       "      <td>2019-01-14 03:00:00</td>\n",
       "      <td>17.727940</td>\n",
       "      <td>27.811509</td>\n",
       "      <td>20.592299</td>\n",
       "      <td>CLIENTE1</td>\n",
       "    </tr>\n",
       "    <tr>\n",
       "      <th>4</th>\n",
       "      <td>2019-01-14 04:00:00</td>\n",
       "      <td>17.746484</td>\n",
       "      <td>27.795293</td>\n",
       "      <td>21.690626</td>\n",
       "      <td>CLIENTE1</td>\n",
       "    </tr>\n",
       "  </tbody>\n",
       "</table>\n",
       "</div>"
      ],
      "text/plain": [
       "                Fecha    Presion  Temperatura    Volumen   CLIENTE\n",
       "0 2019-01-14 00:00:00  17.732563    28.209354  20.969751  CLIENTE1\n",
       "1 2019-01-14 01:00:00  17.747776    28.518614  17.845739  CLIENTE1\n",
       "2 2019-01-14 02:00:00  17.758916    28.230191  20.975914  CLIENTE1\n",
       "3 2019-01-14 03:00:00  17.727940    27.811509  20.592299  CLIENTE1\n",
       "4 2019-01-14 04:00:00  17.746484    27.795293  21.690626  CLIENTE1"
      ]
     },
     "execution_count": 4,
     "metadata": {},
     "output_type": "execute_result"
    }
   ],
   "source": [
    "df = []\n",
    "\n",
    "# Crear columna con el nombre del cliente\n",
    "for nombre_cliente, df_cliente in clientes.items():\n",
    "    df_cliente['CLIENTE'] = nombre_cliente  # Agregar columna con nombre del cliente\n",
    "    df.append(df_cliente)\n",
    "\n",
    "# Unir todos los DataFrames en uno solo\n",
    "df = pd.concat(df, ignore_index=True)\n",
    "\n",
    "# Mostrar el resultado\n",
    "df.head()"
   ]
  },
  {
   "cell_type": "code",
   "execution_count": 6,
   "id": "d63c1743-fc3a-4109-b68b-644e905c92c5",
   "metadata": {},
   "outputs": [],
   "source": [
    "df['anio'] = df['Fecha'].dt.year\n",
    "df['mes'] = df['Fecha'].dt.month\n",
    "df['dia'] = df['Fecha'].dt.day\n",
    "df['hora'] = df['Fecha'].dt.hour\n",
    "df['dia_semana'] = df['Fecha'].dt.dayofweek"
   ]
  },
  {
   "cell_type": "code",
   "execution_count": 9,
   "id": "2c7ca98c-77e9-447e-b568-f300cf736261",
   "metadata": {},
   "outputs": [
    {
     "data": {
      "text/plain": [
       "array([2019, 2020, 2021, 2022, 2023], dtype=int32)"
      ]
     },
     "execution_count": 9,
     "metadata": {},
     "output_type": "execute_result"
    }
   ],
   "source": [
    "df['anio'].unique()"
   ]
  },
  {
   "cell_type": "code",
   "execution_count": 11,
   "id": "93862e8e-6649-4b99-a729-af982fa14414",
   "metadata": {},
   "outputs": [
    {
     "data": {
      "text/plain": [
       "Fecha          datetime64[ns]\n",
       "Presion               float64\n",
       "Temperatura           float64\n",
       "Volumen               float64\n",
       "CLIENTE                object\n",
       "anio                    int32\n",
       "mes                     int32\n",
       "dia                     int32\n",
       "hora                    int32\n",
       "dia_semana              int32\n",
       "dtype: object"
      ]
     },
     "execution_count": 11,
     "metadata": {},
     "output_type": "execute_result"
    }
   ],
   "source": [
    "df.dtypes"
   ]
  },
  {
   "cell_type": "code",
   "execution_count": 21,
   "id": "5b57afab-9678-4a3e-b4a4-967f5053397d",
   "metadata": {},
   "outputs": [
    {
     "name": "stdout",
     "output_type": "stream",
     "text": [
      "[{'label': np.int32(14), 'value': np.int32(14)}, {'label': np.int32(15), 'value': np.int32(15)}, {'label': np.int32(16), 'value': np.int32(16)}, {'label': np.int32(17), 'value': np.int32(17)}, {'label': np.int32(18), 'value': np.int32(18)}, {'label': np.int32(19), 'value': np.int32(19)}, {'label': np.int32(20), 'value': np.int32(20)}, {'label': np.int32(21), 'value': np.int32(21)}, {'label': np.int32(22), 'value': np.int32(22)}, {'label': np.int32(23), 'value': np.int32(23)}, {'label': np.int32(24), 'value': np.int32(24)}, {'label': np.int32(25), 'value': np.int32(25)}, {'label': np.int32(26), 'value': np.int32(26)}, {'label': np.int32(27), 'value': np.int32(27)}, {'label': np.int32(28), 'value': np.int32(28)}, {'label': np.int32(29), 'value': np.int32(29)}, {'label': np.int32(30), 'value': np.int32(30)}, {'label': np.int32(31), 'value': np.int32(31)}, {'label': np.int32(1), 'value': np.int32(1)}, {'label': np.int32(2), 'value': np.int32(2)}, {'label': np.int32(3), 'value': np.int32(3)}, {'label': np.int32(4), 'value': np.int32(4)}, {'label': np.int32(5), 'value': np.int32(5)}, {'label': np.int32(6), 'value': np.int32(6)}, {'label': np.int32(7), 'value': np.int32(7)}, {'label': np.int32(8), 'value': np.int32(8)}, {'label': np.int32(9), 'value': np.int32(9)}, {'label': np.int32(10), 'value': np.int32(10)}, {'label': np.int32(11), 'value': np.int32(11)}, {'label': np.int32(12), 'value': np.int32(12)}, {'label': np.int32(13), 'value': np.int32(13)}]\n"
     ]
    }
   ],
   "source": [
    "print([{'label': anio, 'value': anio} for anio in df['dia'].unique()])"
   ]
  },
  {
   "cell_type": "code",
   "execution_count": 13,
   "id": "be17694c-6197-4356-80dd-3d30a13b570c",
   "metadata": {},
   "outputs": [
    {
     "data": {
      "text/plain": [
       "np.int32(2019)"
      ]
     },
     "execution_count": 13,
     "metadata": {},
     "output_type": "execute_result"
    }
   ],
   "source": [
    "df['anio'].unique()[0]"
   ]
  },
  {
   "cell_type": "code",
   "execution_count": 23,
   "id": "24b92855-5ddf-4c0c-bf35-6461ddcdd53b",
   "metadata": {},
   "outputs": [],
   "source": [
    "df['Fecha'] = pd.to_datetime(df['Fecha'])"
   ]
  },
  {
   "cell_type": "code",
   "execution_count": 25,
   "id": "d6155073-af91-4a80-8e94-58ca94fa4532",
   "metadata": {},
   "outputs": [
    {
     "data": {
      "text/plain": [
       "Fecha          datetime64[ns]\n",
       "Presion               float64\n",
       "Temperatura           float64\n",
       "Volumen               float64\n",
       "CLIENTE                object\n",
       "anio                    int32\n",
       "mes                     int32\n",
       "dia                     int32\n",
       "hora                    int32\n",
       "dia_semana              int32\n",
       "dtype: object"
      ]
     },
     "execution_count": 25,
     "metadata": {},
     "output_type": "execute_result"
    }
   ],
   "source": [
    "df.dtypes"
   ]
  },
  {
   "cell_type": "code",
   "execution_count": null,
   "id": "b45f6cb9-e71c-4371-bc60-2fd7539383b9",
   "metadata": {},
   "outputs": [],
   "source": []
  }
 ],
 "metadata": {
  "kernelspec": {
   "display_name": "Python 3 (ipykernel)",
   "language": "python",
   "name": "python3"
  },
  "language_info": {
   "codemirror_mode": {
    "name": "ipython",
    "version": 3
   },
   "file_extension": ".py",
   "mimetype": "text/x-python",
   "name": "python",
   "nbconvert_exporter": "python",
   "pygments_lexer": "ipython3",
   "version": "3.10.16"
  }
 },
 "nbformat": 4,
 "nbformat_minor": 5
}
